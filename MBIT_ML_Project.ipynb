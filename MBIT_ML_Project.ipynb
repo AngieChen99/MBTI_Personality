{
 "cells": [
  {
   "cell_type": "markdown",
   "id": "1433fa6b",
   "metadata": {},
   "source": [
    "# Team members:\n",
    "- Angie Chen\n",
    "- Sukanya Ahuja \n",
    "- Nidhi Gadia\n",
    "- Daniyal Daniyal \n",
    "- Farheen Humayun\n",
    "\n",
    "    "
   ]
  },
  {
   "cell_type": "code",
   "execution_count": null,
   "id": "e8f04691",
   "metadata": {},
   "outputs": [],
   "source": [
    "#This dataset is regarding Myers-Briggs Type indicator (MBTI) which is a kind of psychological classification\n",
    "#about humans.\n",
    "#MBTI is one of th emost popular tests in the world\n",
    "# It is used in businesses, online, for fun, for research and lots of other purposes.\n",
    "# This dataset has a 8,675 unique values\n",
    "#This dataset has been taken from Kaggle\n",
    "#The Myers Briggs Type Indicator (or MBTI for short) is a personality type system\n",
    "#It divides everyone into 16 distinct personality types across 4 axis:\n",
    "# 1. Introversion (I) – Extroversion (E)\n",
    "# 2. Intuition (N) – Sensing (S)\n",
    "# 3. Thinking (T) – Feeling (F)\n",
    "# 4. Judging (J) – Perceiving (P)"
   ]
  },
  {
   "cell_type": "code",
   "execution_count": null,
   "id": "b0328c12",
   "metadata": {},
   "outputs": [],
   "source": [
    "#Importing required packages\n",
    "\n",
    "import pandas as pd\n",
    "from sklearn.tree import DecisionTreeClassifier\n",
    "from sklearn.metrics import classification_report\n",
    "from sklearn.linear_model import LogisticRegression\n",
    "from sklearn.neighbors import KNeighborsClassifier\n",
    "from sklearn.preprocessing import LabelEncoder\n",
    "from sklearn.feature_extraction.text import TfidfVectorizer\n",
    "#import sys\n",
    "#!{sys.executable} -m pip install wordcloud\n",
    "from wordcloud import WordCloud\n",
    "from tqdm import tqdm\n",
    "import nltk\n",
    "from nltk.stem import WordNetLemmatizer\n",
    "from nltk.corpus import stopwords\n",
    "import re\n",
    "from sklearn.model_selection import train_test_split\n",
    "from sklearn.svm import SVC,LinearSVC\n",
    "from sklearn.ensemble import RandomForestClassifier,GradientBoostingClassifier\n",
    "import matplotlib.pyplot as plt\n",
    "import seaborn as sns\n",
    "from sklearn.metrics import accuracy_score\n",
    "from sklearn.naive_bayes import MultinomialNB\n",
    "from sklearn.pipeline import Pipeline\n",
    "from sklearn.pipeline import make_pipeline\n",
    "from sklearn.model_selection import GridSearchCV\n",
    "\n",
    "#from imblearn.over_sampling import SMOTE"
   ]
  },
  {
   "cell_type": "markdown",
   "id": "2e414c78-1a99-405f-b046-69a62370dc0f",
   "metadata": {},
   "source": [
    "# Data Wrangling\n",
    "- Import file.\n",
    "- Convert data into the DataFram, calculating some statsitcal data.\n",
    "- Plot data distribution, check how often each value occurs.\n",
    "- Count missing values and check data contents.\n"
   ]
  },
  {
   "cell_type": "code",
   "execution_count": 2,
   "id": "f1b9b7e5",
   "metadata": {},
   "outputs": [
    {
     "data": {
      "text/html": [
       "<div>\n",
       "<style scoped>\n",
       "    .dataframe tbody tr th:only-of-type {\n",
       "        vertical-align: middle;\n",
       "    }\n",
       "\n",
       "    .dataframe tbody tr th {\n",
       "        vertical-align: top;\n",
       "    }\n",
       "\n",
       "    .dataframe thead th {\n",
       "        text-align: right;\n",
       "    }\n",
       "</style>\n",
       "<table border=\"1\" class=\"dataframe\">\n",
       "  <thead>\n",
       "    <tr style=\"text-align: right;\">\n",
       "      <th></th>\n",
       "      <th>type</th>\n",
       "      <th>posts</th>\n",
       "    </tr>\n",
       "  </thead>\n",
       "  <tbody>\n",
       "    <tr>\n",
       "      <th>0</th>\n",
       "      <td>INFJ</td>\n",
       "      <td>'http://www.youtube.com/watch?v=qsXHcwe3krw|||...</td>\n",
       "    </tr>\n",
       "    <tr>\n",
       "      <th>1</th>\n",
       "      <td>ENTP</td>\n",
       "      <td>'I'm finding the lack of me in these posts ver...</td>\n",
       "    </tr>\n",
       "    <tr>\n",
       "      <th>2</th>\n",
       "      <td>INTP</td>\n",
       "      <td>'Good one  _____   https://www.youtube.com/wat...</td>\n",
       "    </tr>\n",
       "    <tr>\n",
       "      <th>3</th>\n",
       "      <td>INTJ</td>\n",
       "      <td>'Dear INTP,   I enjoyed our conversation the o...</td>\n",
       "    </tr>\n",
       "    <tr>\n",
       "      <th>4</th>\n",
       "      <td>ENTJ</td>\n",
       "      <td>'You're fired.|||That's another silly misconce...</td>\n",
       "    </tr>\n",
       "  </tbody>\n",
       "</table>\n",
       "</div>"
      ],
      "text/plain": [
       "   type                                              posts\n",
       "0  INFJ  'http://www.youtube.com/watch?v=qsXHcwe3krw|||...\n",
       "1  ENTP  'I'm finding the lack of me in these posts ver...\n",
       "2  INTP  'Good one  _____   https://www.youtube.com/wat...\n",
       "3  INTJ  'Dear INTP,   I enjoyed our conversation the o...\n",
       "4  ENTJ  'You're fired.|||That's another silly misconce..."
      ]
     },
     "execution_count": 2,
     "metadata": {},
     "output_type": "execute_result"
    }
   ],
   "source": [
    "# Importing data \n",
    "data=pd.read_csv('C:/Users/gadia/OneDrive/Brandeis/Spring 2022/Machine Learning/project/mbti_1.csv')\n",
    "# Check each column names\n",
    "data.head()"
   ]
  },
  {
   "cell_type": "code",
   "execution_count": 3,
   "id": "31c6dd17",
   "metadata": {},
   "outputs": [
    {
     "data": {
      "text/html": [
       "<div>\n",
       "<style scoped>\n",
       "    .dataframe tbody tr th:only-of-type {\n",
       "        vertical-align: middle;\n",
       "    }\n",
       "\n",
       "    .dataframe tbody tr th {\n",
       "        vertical-align: top;\n",
       "    }\n",
       "\n",
       "    .dataframe thead th {\n",
       "        text-align: right;\n",
       "    }\n",
       "</style>\n",
       "<table border=\"1\" class=\"dataframe\">\n",
       "  <thead>\n",
       "    <tr style=\"text-align: right;\">\n",
       "      <th></th>\n",
       "      <th>type</th>\n",
       "      <th>posts</th>\n",
       "    </tr>\n",
       "  </thead>\n",
       "  <tbody>\n",
       "    <tr>\n",
       "      <th>count</th>\n",
       "      <td>8675</td>\n",
       "      <td>8675</td>\n",
       "    </tr>\n",
       "    <tr>\n",
       "      <th>unique</th>\n",
       "      <td>16</td>\n",
       "      <td>8675</td>\n",
       "    </tr>\n",
       "    <tr>\n",
       "      <th>top</th>\n",
       "      <td>INFP</td>\n",
       "      <td>'Got a Ph.D. in computer science. Now I enjoy ...</td>\n",
       "    </tr>\n",
       "    <tr>\n",
       "      <th>freq</th>\n",
       "      <td>1832</td>\n",
       "      <td>1</td>\n",
       "    </tr>\n",
       "  </tbody>\n",
       "</table>\n",
       "</div>"
      ],
      "text/plain": [
       "        type                                              posts\n",
       "count   8675                                               8675\n",
       "unique    16                                               8675\n",
       "top     INFP  'Got a Ph.D. in computer science. Now I enjoy ...\n",
       "freq    1832                                                  1"
      ]
     },
     "execution_count": 3,
     "metadata": {},
     "output_type": "execute_result"
    }
   ],
   "source": [
    "# Description of the data\n",
    "data.describe()"
   ]
  },
  {
   "cell_type": "code",
   "execution_count": 9,
   "id": "6be85d44",
   "metadata": {},
   "outputs": [
    {
     "data": {
      "text/plain": [
       "<AxesSubplot:>"
      ]
     },
     "execution_count": 9,
     "metadata": {},
     "output_type": "execute_result"
    },
    {
     "data": {
      "image/png": "[encoded data removed]",
      "text/plain": [
       "<Figure size 432x288 with 1 Axes>"
      ]
     },
     "metadata": {
      "needs_background": "light"
     },
     "output_type": "display_data"
    }
   ],
   "source": [
    "# Checking data distribution, which shows all the possible values and inditify how often each value occurs.\n",
    "data['type'].value_counts().plot(kind='bar')"
   ]
  },
  {
   "cell_type": "markdown",
   "id": "1ea69603",
   "metadata": {},
   "source": [
    "The data does not have a balanced sample"
   ]
  },
  {
   "cell_type": "code",
   "execution_count": 10,
   "id": "0d5446cb",
   "metadata": {},
   "outputs": [
    {
     "name": "stdout",
     "output_type": "stream",
     "text": [
      "<class 'pandas.core.frame.DataFrame'>\n",
      "\n",
      "RangeIndex: 8675 entries, 0 to 8674\n",
      "\n",
      "Data columns (total 2 columns):\n",
      "\n",
      " #   Column  Non-Null Count  Dtype \n",
      "\n",
      "---  ------  --------------  ----- \n",
      "\n",
      " 0   type    8675 non-null   object\n",
      "\n",
      " 1   posts   8675 non-null   object\n",
      "\n",
      "dtypes: object(2)\n",
      "\n",
      "memory usage: 135.7+ KB\n"
     ]
    }
   ],
   "source": [
    "#checking for nulls or any missing value in the column, but in this case, we do not have missing vales.\n",
    "data.info()"
   ]
  },
  {
   "cell_type": "code",
   "execution_count": 11,
   "id": "2a37ceeb",
   "metadata": {},
   "outputs": [
    {
     "data": {
      "text/plain": [
       "\"'http://www.youtube.com/watch?v=qsXHcwe3krw|||http://41.media.tumblr.com/tumblr_lfouy03PMA1qa1rooo1_500.jpg|||enfp and intj moments  https://www.youtube.com/watch?v=iz7lE1g4XM4  sportscenter not top ten plays  https://www.youtube.com/watch?v=uCdfze1etec  pranks|||What has been the most life-changing experience in your life?|||http://www.youtube.com/watch?v=vXZeYwwRDw8   http://www.youtube.com/watch?v=u8ejam5DP3E  On repeat for most of today.|||May the PerC Experience immerse you.|||The last thing my INFJ friend posted on his facebook before committing suicide the next day. Rest in peace~   http://vimeo.com/22842206|||Hello ENFJ7. Sorry to hear of your distress. It's only natural for a relationship to not be perfection all the time in every moment of existence. Try to figure the hard times as times of growth, as...|||84389  84390  http://wallpaperpassion.com/upload/23700/friendship-boy-and-girl-wallpaper.jpg  http://assets.dornob.com/wp-content/uploads/2010/04/round-home-design.jpg ...|||Welcome and stuff.|||http://playeressence.com/wp-content/uploads/2013/08/RED-red-the-pokemon-master-32560474-450-338.jpg  Game. Set. Match.|||Prozac, wellbrutin, at least thirty minutes of moving your legs (and I don't mean moving them while sitting in your same desk chair), weed in moderation (maybe try edibles as a healthier alternative...|||Basically come up with three items you've determined that each type (or whichever types you want to do) would more than likely use, given each types' cognitive functions and whatnot, when left by...|||All things in moderation.  Sims is indeed a video game, and a good one at that. Note: a good one at that is somewhat subjective in that I am not completely promoting the death of any given Sim...|||Dear ENFP:  What were your favorite video games growing up and what are your now, current favorite video games? :cool:|||https://www.youtube.com/watch?v=QyPqT8umzmY|||It appears to be too late. :sad:|||There's someone out there for everyone.|||Wait... I thought confidence was a good thing.|||I just cherish the time of solitude b/c i revel within my inner world more whereas most other time i'd be workin... just enjoy the me time while you can. Don't worry, people will always be around to...|||Yo entp ladies... if you're into a complimentary personality,well, hey.|||... when your main social outlet is xbox live conversations and even then you verbally fatigue quickly.|||http://www.youtube.com/watch?v=gDhy7rdfm14  I really dig the part from 1:46 to 2:50|||http://www.youtube.com/watch?v=msqXffgh7b8|||Banned because this thread requires it of me.|||Get high in backyard, roast and eat marshmellows in backyard while conversing over something intellectual, followed by massages and kisses.|||http://www.youtube.com/watch?v=Mw7eoU3BMbE|||http://www.youtube.com/watch?v=4V2uYORhQOk|||http://www.youtube.com/watch?v=SlVmgFQQ0TI|||Banned for too many b's in that sentence. How could you! Think of the B!|||Banned for watching movies in the corner with the dunces.|||Banned because Health class clearly taught you nothing about peer pressure.|||Banned for a whole host of reasons!|||http://www.youtube.com/watch?v=IRcrv41hgz4|||1) Two baby deer on left and right munching on a beetle in the middle.  2) Using their own blood, two cavemen diary today's latest happenings on their designated cave diary wall.  3) I see it as...|||a pokemon world  an infj society  everyone becomes an optimist|||49142|||http://www.youtube.com/watch?v=ZRCEq_JFeFM|||http://discovermagazine.com/2012/jul-aug/20-things-you-didnt-know-about-deserts/desert.jpg|||http://oyster.ignimgs.com/mediawiki/apis.ign.com/pokemon-silver-version/d/dd/Ditto.gif|||http://www.serebii.net/potw-dp/Scizor.jpg|||Not all artists are artists because they draw. It's the idea that counts in forming something of your own... like a signature.|||Welcome to the robot ranks, person who downed my self-esteem cuz I'm not an avid signature artist like herself. :proud:|||Banned for taking all the room under my bed. Ya gotta learn to share with the roaches.|||http://www.youtube.com/watch?v=w8IgImn57aQ|||Banned for being too much of a thundering, grumbling kind of storm... yep.|||Ahh... old high school music I haven't heard in ages.   http://www.youtube.com/watch?v=dcCRUPCdB1w|||I failed a public speaking class a few years ago and I've sort of learned what I could do better were I to be in that position again. A big part of my failure was just overloading myself with too...|||I like this person's mentality. He's a confirmed INTJ by the way. http://www.youtube.com/watch?v=hGKLI-GEc6M|||Move to the Denver area and start a new life for myself.'\""
      ]
     },
     "execution_count": 11,
     "metadata": {},
     "output_type": "execute_result"
    }
   ],
   "source": [
    "#checking the data content\n",
    "data.posts[0]"
   ]
  },
  {
   "cell_type": "markdown",
   "id": "be768ddc",
   "metadata": {},
   "source": [
    "# Data Cleaning\n",
    "- Removed unwanted links in the data content\n",
    "- Split data into training and testing dataset.\n",
    "- Plot the data distribution.\n",
    "- Define the target encoding."
   ]
  },
  {
   "cell_type": "code",
   "execution_count": 12,
   "id": "8247ccb4",
   "metadata": {},
   "outputs": [],
   "source": [
    "#function to clean data\n",
    "\n",
    "def clear_text(data):\n",
    "    data_length=[]\n",
    "    lemmatizer=WordNetLemmatizer()\n",
    "    cleaned_text=[]\n",
    "    for sentence in tqdm(data.posts):\n",
    "        sentence=sentence.lower()\n",
    "        \n",
    "#         removing links from text data\n",
    "        sentence=re.sub('https?://[^\\s<>\"]+|www\\.[^\\s<>\"]+',' ',sentence)\n",
    "    \n",
    "#         removing other symbols\n",
    "        sentence=re.sub('[^0-9a-z]',' ',sentence)\n",
    "    \n",
    "        \n",
    "        data_length.append(len(sentence.split()))\n",
    "        cleaned_text.append(sentence)\n",
    "    return cleaned_text,data_length"
   ]
  },
  {
   "cell_type": "code",
   "execution_count": 25,
   "id": "6fe4a2e9",
   "metadata": {},
   "outputs": [
    {
     "name": "stderr",
     "output_type": "stream",
     "text": [
      "100%|█████████████████████████████████████████████████████████████████████████████| 6940/6940 [00:12<00:00, 550.90it/s]\n",
      "\n",
      "C:\\Users\\gadia\\anaconda3\\lib\\site-packages\\pandas\\core\\generic.py:5494: SettingWithCopyWarning: \n",
      "\n",
      "A value is trying to be set on a copy of a slice from a DataFrame.\n",
      "\n",
      "Try using .loc[row_indexer,col_indexer] = value instead\n",
      "\n",
      "\n",
      "\n",
      "See the caveats in the documentation: https://pandas.pydata.org/pandas-docs/stable/user_guide/indexing.html#returning-a-view-versus-a-copy\n",
      "\n",
      "  self[name] = value\n",
      "\n",
      "100%|█████████████████████████████████████████████████████████████████████████████| 1735/1735 [00:02<00:00, 629.87it/s]\n"
     ]
    }
   ],
   "source": [
    "# Stratifying split to ensure equal distribution of data\n",
    "\n",
    "train_data,test_data=train_test_split(data,test_size=0.2,random_state=42,stratify=data.type)\n",
    "train_data.posts,train_length=clear_text(train_data)\n",
    "test_data.posts,test_length=clear_text(test_data)"
   ]
  },
  {
   "cell_type": "code",
   "execution_count": 26,
   "id": "67500ebb",
   "metadata": {},
   "outputs": [
    {
     "name": "stderr",
     "output_type": "stream",
     "text": [
      "C:\\Users\\gadia\\anaconda3\\lib\\site-packages\\seaborn\\distributions.py:2557: FutureWarning: `distplot` is a deprecated function and will be removed in a future version. Please adapt your code to use either `displot` (a figure-level function with similar flexibility) or `histplot` (an axes-level function for histograms).\n",
      "\n",
      "  warnings.warn(msg, FutureWarning)\n",
      "\n",
      "C:\\Users\\gadia\\anaconda3\\lib\\site-packages\\seaborn\\distributions.py:2557: FutureWarning: `distplot` is a deprecated function and will be removed in a future version. Please adapt your code to use either `displot` (a figure-level function with similar flexibility) or `histplot` (an axes-level function for histograms).\n",
      "\n",
      "  warnings.warn(msg, FutureWarning)\n"
     ]
    },
    {
     "data": {
      "image/png": "[encoded data removed]",
      "text/plain": [
       "<Figure size 1080x720 with 1 Axes>"
      ]
     },
     "metadata": {
      "needs_background": "light"
     },
     "output_type": "display_data"
    }
   ],
   "source": [
    "# Plot the length of posts\n",
    "\n",
    "plt.figure(figsize=(15,10))\n",
    "sns.distplot(train_length,label='train data word length')\n",
    "sns.distplot(test_length,label='test data word length')\n",
    "plt.title('Number of words in text',fontdict={'size':20,'style':'italic'})\n",
    "plt.show()"
   ]
  },
  {
   "cell_type": "code",
   "execution_count": 27,
   "id": "58e7528f",
   "metadata": {},
   "outputs": [],
   "source": [
    "class Lemmatizer(object):\n",
    "    def __init__(self):\n",
    "        self.lemmatizer = WordNetLemmatizer()\n",
    "    def __call__(self, sentence):\n",
    "        return [self.lemmatizer.lemmatize(word) for word in sentence.split() if len(word)>2]"
   ]
  },
  {
   "cell_type": "code",
   "execution_count": 32,
   "id": "314ed07d",
   "metadata": {},
   "outputs": [
    {
     "name": "stderr",
     "output_type": "stream",
     "text": [
      "C:\\Users\\gadia\\anaconda3\\lib\\site-packages\\sklearn\\feature_extraction\\text.py:388: UserWarning: Your stop_words may be inconsistent with your preprocessing. Tokenizing the stop words generated tokens ['ha', 'le', 'wa'] not in stop_words.\n",
      "\n",
      "  warnings.warn('Your stop_words may be inconsistent with '\n"
     ]
    },
    {
     "data": {
      "text/plain": [
       "TfidfVectorizer(max_features=5000, stop_words='english',\n",
       "                tokenizer=<__main__.Lemmatizer object at 0x000001A2DF96BF10>)"
      ]
     },
     "execution_count": 32,
     "metadata": {},
     "output_type": "execute_result"
    }
   ],
   "source": [
    "#Tokenizing words\n",
    "\n",
    "vectorizer=TfidfVectorizer( max_features=5000,stop_words='english',tokenizer=Lemmatizer())\n",
    "vectorizer.fit(train_data.posts)"
   ]
  },
  {
   "cell_type": "code",
   "execution_count": 43,
   "id": "e880cc86",
   "metadata": {},
   "outputs": [],
   "source": [
    "# Breaking down the words to different columns\n",
    "\n",
    "X_train=vectorizer.transform(train_data.posts).toarray()\n",
    "X_test=vectorizer.transform(test_data.posts).toarray()"
   ]
  },
  {
   "cell_type": "code",
   "execution_count": 45,
   "id": "6818b017",
   "metadata": {},
   "outputs": [],
   "source": [
    "#label encoding for traget variable\n",
    "\n",
    "target_encoder=LabelEncoder()\n",
    "y_train=target_encoder.fit_transform(train_data.type)\n",
    "y_test=target_encoder.fit_transform(test_data.type)"
   ]
  },
  {
   "cell_type": "markdown",
   "id": "71b54119",
   "metadata": {},
   "source": [
    "# Modeling\n",
    "- Logistic Regression, used to predict the probability of categorical dependent variable.\n",
    "- KNN, a supervised machine learning model. Generate the KNN model using nerihbors value.\n",
    "- SVC, support vector classifier to perform classification and regression. Return a best fit hyperplane effectively in a high dimensional space.\n",
    "- Decision Tree, determine each possible consequences, chance event outcome. Enable to make decision on each leaf process.\n",
    "- Random Forest, ensemble model. Compare to the tree, forest is average over forecasts from all tress."
   ]
  },
  {
   "cell_type": "code",
   "execution_count": null,
   "id": "e4db9be9-c2cd-464e-980c-d469b8c0af25",
   "metadata": {},
   "outputs": [],
   "source": [
    "#empty object to add accuracies of all models\n",
    "models_accuracy={}"
   ]
  },
  {
   "cell_type": "code",
   "execution_count": 61,
   "id": "debc88f9",
   "metadata": {},
   "outputs": [
    {
     "name": "stdout",
     "output_type": "stream",
     "text": [
      "train classification report \n",
      "\n",
      "                precision    recall  f1-score   support\n",
      "\n",
      "\n",
      "\n",
      "        ENFJ       0.83      0.32      0.46       152\n",
      "\n",
      "        ENFP       0.83      0.74      0.78       540\n",
      "\n",
      "        ENTJ       0.92      0.52      0.67       185\n",
      "\n",
      "        ENTP       0.84      0.78      0.81       548\n",
      "\n",
      "        ESFJ       0.75      0.09      0.16        34\n",
      "\n",
      "        ESFP       0.00      0.00      0.00        38\n",
      "\n",
      "        ESTJ       0.00      0.00      0.00        31\n",
      "\n",
      "        ESTP       0.85      0.15      0.26        71\n",
      "\n",
      "        INFJ       0.80      0.87      0.83      1176\n",
      "\n",
      "        INFP       0.75      0.93      0.83      1465\n",
      "\n",
      "        INTJ       0.80      0.85      0.82       873\n",
      "\n",
      "        INTP       0.76      0.90      0.83      1043\n",
      "\n",
      "        ISFJ       0.91      0.48      0.63       133\n",
      "\n",
      "        ISFP       0.88      0.49      0.63       217\n",
      "\n",
      "        ISTJ       0.87      0.52      0.65       164\n",
      "\n",
      "        ISTP       0.88      0.72      0.79       270\n",
      "\n",
      "\n",
      "\n",
      "    accuracy                           0.79      6940\n",
      "\n",
      "   macro avg       0.73      0.52      0.57      6940\n",
      "\n",
      "weighted avg       0.79      0.79      0.78      6940\n",
      "\n",
      "\n",
      "\n",
      "test classification report \n",
      "\n",
      "                precision    recall  f1-score   support\n",
      "\n",
      "\n",
      "\n",
      "        ENFJ       0.64      0.18      0.29        38\n",
      "\n",
      "        ENFP       0.75      0.57      0.65       135\n",
      "\n",
      "        ENTJ       0.60      0.26      0.36        46\n",
      "\n",
      "        ENTP       0.63      0.53      0.57       137\n",
      "\n",
      "        ESFJ       1.00      0.12      0.22         8\n",
      "\n",
      "        ESFP       0.00      0.00      0.00        10\n",
      "\n",
      "        ESTJ       0.00      0.00      0.00         8\n",
      "\n",
      "        ESTP       1.00      0.11      0.20        18\n",
      "\n",
      "        INFJ       0.67      0.73      0.70       294\n",
      "\n",
      "        INFP       0.60      0.86      0.71       367\n",
      "\n",
      "        INTJ       0.63      0.65      0.64       218\n",
      "\n",
      "        INTP       0.69      0.84      0.75       261\n",
      "\n",
      "        ISFJ       0.67      0.18      0.29        33\n",
      "\n",
      "        ISFP       0.82      0.33      0.47        54\n",
      "\n",
      "        ISTJ       0.77      0.24      0.37        41\n",
      "\n",
      "        ISTP       0.67      0.52      0.59        67\n",
      "\n",
      "\n",
      "\n",
      "    accuracy                           0.65      1735\n",
      "\n",
      "   macro avg       0.63      0.38      0.43      1735\n",
      "\n",
      "weighted avg       0.66      0.65      0.63      1735\n",
      "\n",
      "\n"
     ]
    },
    {
     "name": "stderr",
     "output_type": "stream",
     "text": [
      "C:\\Users\\gadia\\anaconda3\\lib\\site-packages\\sklearn\\metrics\\_classification.py:1245: UndefinedMetricWarning: Precision and F-score are ill-defined and being set to 0.0 in labels with no predicted samples. Use `zero_division` parameter to control this behavior.\n",
      "\n",
      "  _warn_prf(average, modifier, msg_start, len(result))\n",
      "\n",
      "C:\\Users\\gadia\\anaconda3\\lib\\site-packages\\sklearn\\metrics\\_classification.py:1245: UndefinedMetricWarning: Precision and F-score are ill-defined and being set to 0.0 in labels with no predicted samples. Use `zero_division` parameter to control this behavior.\n",
      "\n",
      "  _warn_prf(average, modifier, msg_start, len(result))\n",
      "\n",
      "C:\\Users\\gadia\\anaconda3\\lib\\site-packages\\sklearn\\metrics\\_classification.py:1245: UndefinedMetricWarning: Precision and F-score are ill-defined and being set to 0.0 in labels with no predicted samples. Use `zero_division` parameter to control this behavior.\n",
      "\n",
      "  _warn_prf(average, modifier, msg_start, len(result))\n",
      "\n",
      "C:\\Users\\gadia\\anaconda3\\lib\\site-packages\\sklearn\\metrics\\_classification.py:1245: UndefinedMetricWarning: Precision and F-score are ill-defined and being set to 0.0 in labels with no predicted samples. Use `zero_division` parameter to control this behavior.\n",
      "\n",
      "  _warn_prf(average, modifier, msg_start, len(result))\n",
      "\n",
      "C:\\Users\\gadia\\anaconda3\\lib\\site-packages\\sklearn\\metrics\\_classification.py:1245: UndefinedMetricWarning: Precision and F-score are ill-defined and being set to 0.0 in labels with no predicted samples. Use `zero_division` parameter to control this behavior.\n",
      "\n",
      "  _warn_prf(average, modifier, msg_start, len(result))\n",
      "\n",
      "C:\\Users\\gadia\\anaconda3\\lib\\site-packages\\sklearn\\metrics\\_classification.py:1245: UndefinedMetricWarning: Precision and F-score are ill-defined and being set to 0.0 in labels with no predicted samples. Use `zero_division` parameter to control this behavior.\n",
      "\n",
      "  _warn_prf(average, modifier, msg_start, len(result))\n"
     ]
    }
   ],
   "source": [
    "#Logistic Regression\n",
    "lr = LogisticRegression(max_iter=3000,solver=\"lbfgs\")\n",
    "lr.fit(X_train,y_train)\n",
    "print('train classification report \\n ',classification_report(y_train,lr.predict(X_train),target_names=target_encoder.inverse_transform([i for i in range(16)])))\n",
    "print('test classification report \\n ',classification_report(y_test,lr.predict(X_test),target_names=target_encoder.inverse_transform([i for i in range(16)])))\n",
    "\n",
    "# adding to model accuracy list\n",
    "models_accuracy['logistic regression']=accuracy_score(y_test,lr.predict(X_test))"
   ]
  },
  {
   "cell_type": "code",
   "execution_count": 73,
   "id": "63374ae5",
   "metadata": {},
   "outputs": [
    {
     "name": "stdout",
     "output_type": "stream",
     "text": [
      "[0.4904899135446686, 0.49971181556195965, 0.49913544668587895, 0.49452449567723344, 0.49913544668587895]\n"
     ]
    }
   ],
   "source": [
    "#KNN\n",
    "\n",
    "neighbors_settings = [25,30,35,40,45]\n",
    "test_accuracy = []\n",
    "\n",
    "for n_neighbors in neighbors_settings:\n",
    "    # build the model\n",
    "    knn = KNeighborsClassifier(n_neighbors=n_neighbors)\n",
    "    knn.fit(X_train,y_train)\n",
    "    test_accuracy.append(accuracy_score(y_test,knn.predict(X_test)))\n",
    "    \n",
    "print(test_accuracy)\n",
    "\n",
    "#Adding to model accuracy list\n",
    "knn = KNeighborsClassifier(n_neighbors=30)\n",
    "knn.fit(X_train,y_train)\n",
    "models_accuracy['K Nearest Neighbors']=accuracy_score(y_test,knn.predict(X_test))"
   ]
  },
  {
   "cell_type": "code",
   "execution_count": 97,
   "id": "eaaaf7ef",
   "metadata": {},
   "outputs": [
    {
     "name": "stdout",
     "output_type": "stream",
     "text": [
      "train classification report \n",
      "\n",
      "                precision    recall  f1-score   support\n",
      "\n",
      "\n",
      "\n",
      "        ENFJ       0.99      0.98      0.98       152\n",
      "\n",
      "        ENFP       0.99      0.98      0.98       540\n",
      "\n",
      "        ENTJ       1.00      0.97      0.98       185\n",
      "\n",
      "        ENTP       0.98      0.99      0.98       548\n",
      "\n",
      "        ESFJ       1.00      0.97      0.99        34\n",
      "\n",
      "        ESFP       1.00      0.89      0.94        38\n",
      "\n",
      "        ESTJ       1.00      1.00      1.00        31\n",
      "\n",
      "        ESTP       1.00      0.97      0.99        71\n",
      "\n",
      "        INFJ       0.99      0.98      0.98      1176\n",
      "\n",
      "        INFP       0.98      0.99      0.99      1465\n",
      "\n",
      "        INTJ       0.99      0.99      0.99       873\n",
      "\n",
      "        INTP       0.98      0.99      0.99      1043\n",
      "\n",
      "        ISFJ       1.00      0.98      0.99       133\n",
      "\n",
      "        ISFP       0.99      0.98      0.99       217\n",
      "\n",
      "        ISTJ       0.98      0.98      0.98       164\n",
      "\n",
      "        ISTP       0.99      0.99      0.99       270\n",
      "\n",
      "\n",
      "\n",
      "    accuracy                           0.99      6940\n",
      "\n",
      "   macro avg       0.99      0.98      0.98      6940\n",
      "\n",
      "weighted avg       0.99      0.99      0.99      6940\n",
      "\n",
      "\n",
      "\n",
      "test classification report \n",
      "\n",
      "                precision    recall  f1-score   support\n",
      "\n",
      "\n",
      "\n",
      "        ENFJ       0.68      0.39      0.50        38\n",
      "\n",
      "        ENFP       0.74      0.56      0.64       135\n",
      "\n",
      "        ENTJ       0.64      0.35      0.45        46\n",
      "\n",
      "        ENTP       0.63      0.55      0.59       137\n",
      "\n",
      "        ESFJ       0.50      0.25      0.33         8\n",
      "\n",
      "        ESFP       0.00      0.00      0.00        10\n",
      "\n",
      "        ESTJ       1.00      0.12      0.22         8\n",
      "\n",
      "        ESTP       0.78      0.39      0.52        18\n",
      "\n",
      "        INFJ       0.67      0.71      0.69       294\n",
      "\n",
      "        INFP       0.63      0.84      0.72       367\n",
      "\n",
      "        INTJ       0.64      0.65      0.65       218\n",
      "\n",
      "        INTP       0.68      0.81      0.74       261\n",
      "\n",
      "        ISFJ       0.78      0.42      0.55        33\n",
      "\n",
      "        ISFP       0.81      0.39      0.53        54\n",
      "\n",
      "        ISTJ       0.79      0.37      0.50        41\n",
      "\n",
      "        ISTP       0.74      0.58      0.65        67\n",
      "\n",
      "\n",
      "\n",
      "    accuracy                           0.66      1735\n",
      "\n",
      "   macro avg       0.67      0.46      0.52      1735\n",
      "\n",
      "weighted avg       0.67      0.66      0.65      1735\n",
      "\n",
      "\n"
     ]
    },
    {
     "name": "stderr",
     "output_type": "stream",
     "text": [
      "C:\\Users\\gadia\\anaconda3\\lib\\site-packages\\sklearn\\metrics\\_classification.py:1245: UndefinedMetricWarning: Precision and F-score are ill-defined and being set to 0.0 in labels with no predicted samples. Use `zero_division` parameter to control this behavior.\n",
      "\n",
      "  _warn_prf(average, modifier, msg_start, len(result))\n",
      "\n",
      "C:\\Users\\gadia\\anaconda3\\lib\\site-packages\\sklearn\\metrics\\_classification.py:1245: UndefinedMetricWarning: Precision and F-score are ill-defined and being set to 0.0 in labels with no predicted samples. Use `zero_division` parameter to control this behavior.\n",
      "\n",
      "  _warn_prf(average, modifier, msg_start, len(result))\n",
      "\n",
      "C:\\Users\\gadia\\anaconda3\\lib\\site-packages\\sklearn\\metrics\\_classification.py:1245: UndefinedMetricWarning: Precision and F-score are ill-defined and being set to 0.0 in labels with no predicted samples. Use `zero_division` parameter to control this behavior.\n",
      "\n",
      "  _warn_prf(average, modifier, msg_start, len(result))\n"
     ]
    }
   ],
   "source": [
    "#SVC\n",
    "sv = SVC(kernel=\"rbf\",C=1.5,gamma=1.0,max_iter=10000)\n",
    "sv.fit(X_train,y_train)\n",
    "print('train classification report \\n ',classification_report(y_train,sv.predict(X_train),target_names=target_encoder.inverse_transform([i for i in range(16)])))\n",
    "print('test classification report \\n ',classification_report(y_test,sv.predict(X_test),target_names=target_encoder.inverse_transform([i for i in range(16)])))\n",
    "\n",
    "#Adding to model accuracy list\n",
    "models_accuracy['Support Vector Classifier']=accuracy_score(y_test,sv.predict(X_test))"
   ]
  },
  {
   "cell_type": "code",
   "execution_count": 71,
   "id": "e9c64144",
   "metadata": {},
   "outputs": [
    {
     "name": "stdout",
     "output_type": "stream",
     "text": [
      "[0.49164265129683, 0.5279538904899136, 0.5262247838616715, 0.530835734870317, 0.5291066282420749, 0.5273775216138329, 0.5106628242074928, 0.5118155619596542, 0.5198847262247839, 0.5123919308357349, 0.5123919308357349]\n"
     ]
    }
   ],
   "source": [
    "#Decision Tree\n",
    "\n",
    "depth_settings = [5,6,7,8,9,10,11,12,13,14,15]\n",
    "test_accuracy = []\n",
    "\n",
    "for depth in depth_settings:\n",
    "    # build the model\n",
    "    tree = DecisionTreeClassifier(max_depth=depth)\n",
    "    tree.fit(X_train,y_train)\n",
    "    test_accuracy.append(accuracy_score(y_test,tree.predict(X_test)))\n",
    "    \n",
    "print(test_accuracy)\n",
    "\n",
    "#Adding to model accuracy list\n",
    "tree = DecisionTreeClassifier(max_depth=8)\n",
    "tree.fit(X_train,y_train)\n",
    "models_accuracy['Decision Tree Classifier']=accuracy_score(y_test,tree.predict(X_test))"
   ]
  },
  {
   "cell_type": "code",
   "execution_count": 86,
   "id": "c80c8647",
   "metadata": {},
   "outputs": [
    {
     "name": "stdout",
     "output_type": "stream",
     "text": [
      "[0.5014409221902018, 0.514121037463977, 0.5129682997118156, 0.506628242074928, 0.5221902017291066, 0.5181556195965418]\n"
     ]
    }
   ],
   "source": [
    "#Random Forest\n",
    "\n",
    "depth_settings = [13,14,15,16,17,18]\n",
    "test_accuracy = []\n",
    "\n",
    "for depth in depth_settings:\n",
    "    # build the model\n",
    "    rf = RandomForestClassifier(max_depth=depth)\n",
    "    rf.fit(X_train,y_train)\n",
    "    test_accuracy.append(accuracy_score(y_test,rf.predict(X_test)))\n",
    "    \n",
    "print(test_accuracy)\n",
    "\n",
    "#Adding to model accuracy list\n",
    "rf = RandomForestClassifier(max_depth=17)\n",
    "rf.fit(X_train,y_train)\n",
    "models_accuracy['Random Forest Classifier']=accuracy_score(y_test,rf.predict(X_test))"
   ]
  },
  {
   "cell_type": "markdown",
   "id": "da72cd13-895c-4197-bdf4-120320ea1b58",
   "metadata": {},
   "source": [
    "# Conclusion and Comparsion"
   ]
  },
  {
   "cell_type": "code",
   "execution_count": 100,
   "id": "e2caf2fe",
   "metadata": {},
   "outputs": [
    {
     "data": {
      "text/html": [
       "<style  type=\"text/css\" >\n",
       "#T_d31ca_row0_col1{\n",
       "            background-color:  #08306b;\n",
       "            color:  #f1f1f1;\n",
       "        }#T_d31ca_row1_col1{\n",
       "            background-color:  #084387;\n",
       "            color:  #f1f1f1;\n",
       "        }#T_d31ca_row2_col1{\n",
       "            background-color:  #d3e4f3;\n",
       "            color:  #000000;\n",
       "        }#T_d31ca_row3_col1{\n",
       "            background-color:  #e5eff9;\n",
       "            color:  #000000;\n",
       "        }#T_d31ca_row4_col1{\n",
       "            background-color:  #f7fbff;\n",
       "            color:  #000000;\n",
       "        }</style><table id=\"T_d31ca_\" ><thead>    <tr>        <th class=\"blank level0\" ></th>        <th class=\"col_heading level0 col0\" >Models</th>        <th class=\"col_heading level0 col1\" >Test accuracy</th>    </tr></thead><tbody>\n",
       "                <tr>\n",
       "                        <th id=\"T_d31ca_level0_row0\" class=\"row_heading level0 row0\" >0</th>\n",
       "                        <td id=\"T_d31ca_row0_col0\" class=\"data row0 col0\" >Support Vector Classifier</td>\n",
       "                        <td id=\"T_d31ca_row0_col1\" class=\"data row0 col1\" >0.662824</td>\n",
       "            </tr>\n",
       "            <tr>\n",
       "                        <th id=\"T_d31ca_level0_row1\" class=\"row_heading level0 row1\" >1</th>\n",
       "                        <td id=\"T_d31ca_row1_col0\" class=\"data row1 col0\" >logistic regression</td>\n",
       "                        <td id=\"T_d31ca_row1_col1\" class=\"data row1 col1\" >0.651297</td>\n",
       "            </tr>\n",
       "            <tr>\n",
       "                        <th id=\"T_d31ca_level0_row2\" class=\"row_heading level0 row2\" >2</th>\n",
       "                        <td id=\"T_d31ca_row2_col0\" class=\"data row2 col0\" >Decision Tree Classifier</td>\n",
       "                        <td id=\"T_d31ca_row2_col1\" class=\"data row2 col1\" >0.529107</td>\n",
       "            </tr>\n",
       "            <tr>\n",
       "                        <th id=\"T_d31ca_level0_row3\" class=\"row_heading level0 row3\" >3</th>\n",
       "                        <td id=\"T_d31ca_row3_col0\" class=\"data row3 col0\" >Random Forest Classifier</td>\n",
       "                        <td id=\"T_d31ca_row3_col1\" class=\"data row3 col1\" >0.514697</td>\n",
       "            </tr>\n",
       "            <tr>\n",
       "                        <th id=\"T_d31ca_level0_row4\" class=\"row_heading level0 row4\" >4</th>\n",
       "                        <td id=\"T_d31ca_row4_col0\" class=\"data row4 col0\" >K Nearest Neighbors</td>\n",
       "                        <td id=\"T_d31ca_row4_col1\" class=\"data row4 col1\" >0.499712</td>\n",
       "            </tr>\n",
       "    </tbody></table>"
      ],
      "text/plain": [
       "<pandas.io.formats.style.Styler at 0x1a2db3d2640>"
      ]
     },
     "execution_count": 100,
     "metadata": {},
     "output_type": "execute_result"
    }
   ],
   "source": [
    "accuracy=pd.DataFrame(models_accuracy.items(),columns=['Models','Test accuracy'])\n",
    "accuracy.sort_values(by='Test accuracy',ascending=False,ignore_index=True).style.background_gradient(cmap='Blues')"
   ]
  },
  {
   "cell_type": "markdown",
   "id": "0bdc8f33-1994-4558-ae4e-94b3fc08383f",
   "metadata": {},
   "source": [
    "- We created a model accuracy list to add all the models into the table. As the result interprested from above, we can see the best model is Support vector classifier with test accuracy 0.66. The computational complexity of SVC is higher than other models to distinguishing between several classes."
   ]
  }
 ],
 "metadata": {
  "kernelspec": {
   "display_name": "Python 3",
   "language": "python",
   "name": "python3"
  },
  "language_info": {
   "codemirror_mode": {
    "name": "ipython",
    "version": 3
   },
   "file_extension": ".py",
   "mimetype": "text/x-python",
   "name": "python",
   "nbconvert_exporter": "python",
   "pygments_lexer": "ipython3",
   "version": "3.8.8"
  }
 },
 "nbformat": 4,
 "nbformat_minor": 5
}
